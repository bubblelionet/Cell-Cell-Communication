{
 "cells": [
  {
   "cell_type": "code",
   "execution_count": 1,
   "metadata": {},
   "outputs": [],
   "source": [
    "import numpy as np\n",
    "import csv\n",
    "import argparse\n",
    "import scanpy as sc\n",
    "import stlearn as st\n",
    "import pickle"
   ]
  },
  {
   "cell_type": "code",
   "execution_count": null,
   "metadata": {},
   "outputs": [],
   "source": [
    "# My version\n",
    "# Load filterered_feature_matrix\n",
    "matrix_path = \"/Users/victoriagao/local_docs/NEST/input/ffbc_matrix_h5/the_rest_15/exp1_A1/\" #must have other required spatial files under the same path\n",
    "adata_h5 = st.Read10X(path=matrix_path, count_file='filtered_feature_bc_matrix.h5')\n"
   ]
  },
  {
   "cell_type": "code",
   "execution_count": null,
   "metadata": {},
   "outputs": [],
   "source": [
    "# filter out the genes that are not expressed in any cell\n",
    "sc.pp.filter_genes(adata_h5, min_cells=1)"
   ]
  },
  {
   "cell_type": "code",
   "execution_count": null,
   "metadata": {},
   "outputs": [],
   "source": [
    "# get gene identifier - names\n",
    "gene_ids = list(adata_h5.var_names)"
   ]
  },
  {
   "cell_type": "code",
   "execution_count": null,
   "metadata": {},
   "outputs": [],
   "source": [
    "# access coordinates stored in adata_ha using the key spatial\n",
    "coordinates = adata_h5.obsm['spatial']"
   ]
  },
  {
   "cell_type": "code",
   "execution_count": null,
   "metadata": {},
   "outputs": [],
   "source": [
    "# get cell identifier - barcode\n",
    "cell_barcode = np.array(adata_h5.obs.index)"
   ]
  },
  {
   "cell_type": "code",
   "execution_count": null,
   "metadata": {},
   "outputs": [],
   "source": [
    "# Save gene_ids, coordinates, cell_barcode\n",
    "with open(\"/Users/victoriagao/local_docs/NEST/stored_variables/exp1_A1_gene_ids.txt\", 'w') as file:\n",
    "    for item in gene_ids:\n",
    "        file.write(item + \"\\n\")\n",
    "\n",
    "np.save(\"/Users/victoriagao/local_docs/NEST/stored_variables/exp1_A1_coordinates\",coordinates)\n",
    "# np.save(\"/Users/victoriagao/local_docs/NEST/stored_variables/cell_barcode\",cell_barcode)\n",
    "\n",
    "\n",
    "with open('/Users/victoriagao/local_docs/NEST/stored_variables/exp1_A1_cell_barcode.pkl', 'wb') as file:\n",
    "    pickle.dump(cell_barcode, file)"
   ]
  }
 ],
 "metadata": {
  "kernelspec": {
   "display_name": "stlearn",
   "language": "python",
   "name": "python3"
  },
  "language_info": {
   "codemirror_mode": {
    "name": "ipython",
    "version": 3
   },
   "file_extension": ".py",
   "mimetype": "text/x-python",
   "name": "python",
   "nbconvert_exporter": "python",
   "pygments_lexer": "ipython3",
   "version": "3.8.18"
  },
  "orig_nbformat": 4
 },
 "nbformat": 4,
 "nbformat_minor": 2
}
