{
 "cells": [
  {
   "cell_type": "markdown",
   "metadata": {},
   "source": [
    "# This script creates several visualizations for regression coefficients"
   ]
  },
  {
   "cell_type": "code",
   "execution_count": 1,
   "metadata": {},
   "outputs": [],
   "source": [
    "import pandas as pd\n",
    "import numpy as np\n",
    "from sklearn.linear_model import LogisticRegression\n",
    "from sklearn.utils import resample\n",
    "from scipy.stats import chi2\n",
    "import ast"
   ]
  },
  {
   "cell_type": "code",
   "execution_count": null,
   "metadata": {},
   "outputs": [],
   "source": [
    "# Load data\n",
    "# celltype_top_10_CI, celltype_top_10_coef_mean"
   ]
  },
  {
   "cell_type": "markdown",
   "metadata": {},
   "source": [
    "#### Parse the elements in celltype_top_10_CI from string to tuple"
   ]
  },
  {
   "cell_type": "code",
   "execution_count": null,
   "metadata": {},
   "outputs": [],
   "source": [
    "def parse_ci(ci_str):\n",
    "    return ast.literal_eval(ci_str)\n",
    "\n",
    "confidence_df = pd.DataFrame()\n",
    "coef_mean_df = pd.DataFrame()\n",
    "\n",
    "# Apply the parse_ci function to all elements in celltype_top_10_CI\n",
    "for col in celltype_top_10_CI.columns[1:]:  # Adjust this range according to your actual data structure\n",
    "    confidence_df[col] = celltype_top_10_CI[col].apply(parse_ci)\n",
    "\n",
    "for col in celltype_top_10_coef_mean.columns[1:]:  # Adjust this range according to your actual data structure\n",
    "    coef_mean_df[col] = celltype_top_10_coef_mean[col].apply(lambda x: round(x, 2))\n",
    "\n",
    "# add LR column to the confidence_df as the first column\n",
    "confidence_df.insert(0, 'LR', celltype_top_10_CI['LR_pair'])\n",
    "confidence_df['LR'] = confidence_df['LR'].str.replace(r'_CI', '')\n",
    "\n",
    "coef_mean_df.insert(0, 'LR', celltype_top_10_coef_mean['LR_pair'])\n",
    "coef_mean_df['LR'] = coef_mean_df['LR'].str.replace(r'_mean', '')"
   ]
  },
  {
   "cell_type": "markdown",
   "metadata": {},
   "source": [
    "#### Error bar style"
   ]
  },
  {
   "cell_type": "code",
   "execution_count": null,
   "metadata": {},
   "outputs": [],
   "source": [
    "def plot_combined_cis_and_means(df_cis, df_means):\n",
    "    num_lr_pairs = len(df_cis)\n",
    "    fig, axes = plt.subplots(nrows=num_lr_pairs, figsize=(10, 8 * num_lr_pairs), sharex=True)\n",
    "\n",
    "    if num_lr_pairs == 1:\n",
    "        axes = [axes]  # Make it iterable if only one subplot\n",
    "    \n",
    "    # Iterate over each row in the confidence interval DataFrame\n",
    "    for ax, (lr_pair, row_cis) in zip(axes, df_cis.iterrows()):\n",
    "        means = df_means.loc[lr_pair]\n",
    "        ax.set_title(f'LR Pair: {df_means.loc[lr_pair][0]}') # \n",
    "        ax.axhline(0, color='gray', linewidth=0.8)  # Horizontal line at zero\n",
    "\n",
    "        # Collect cell types from DataFrame columns\n",
    "        cell_types = df_cis.columns\n",
    "\n",
    "        # Plot each cell type's mean and CI on the same subplot\n",
    "        for i, cell_type in enumerate(cell_types[1:]):\n",
    "            # print(f\"cell type: {cell_type}\")\n",
    "            # print(f\"i:{i}\")\n",
    "            mean = means[cell_type]\n",
    "            ci = row_cis[cell_type]\n",
    "            try:\n",
    "                lower_ci, upper_ci = ci\n",
    "                ax.errorbar(mean, i, xerr=[[mean - lower_ci], [upper_ci - mean]], fmt='o', label=cell_type, capsize=5)\n",
    "            except ValueError:\n",
    "                print(f\"Error unpacking CI for {lr_pair} in {cell_type}: {ci}\")\n",
    "\n",
    "        ax.set_yticks(range(len(cell_types[1:])))\n",
    "        ax.set_yticklabels(cell_types[1:])\n",
    "        # set x axis label\n",
    "        ax.set_xlabel('Coefficient Value')\n",
    "        ax.set_xticks(np.arange(-3, 3.5, 0.5))\n",
    "    \n",
    "    # axes[0].legend(loc='upper right')\n",
    "    plt.tight_layout()\n",
    "    plt.show()\n",
    "        \n",
    "        \n"
   ]
  },
  {
   "cell_type": "code",
   "execution_count": null,
   "metadata": {},
   "outputs": [],
   "source": [
    "plot_combined_cis_and_means(confidence_df, coef_mean_df)"
   ]
  }
 ],
 "metadata": {
  "kernelspec": {
   "display_name": "base",
   "language": "python",
   "name": "python3"
  },
  "language_info": {
   "codemirror_mode": {
    "name": "ipython",
    "version": 3
   },
   "file_extension": ".py",
   "mimetype": "text/x-python",
   "name": "python",
   "nbconvert_exporter": "python",
   "pygments_lexer": "ipython3",
   "version": "3.11.8"
  }
 },
 "nbformat": 4,
 "nbformat_minor": 2
}
