{
 "cells": [
  {
   "cell_type": "code",
   "execution_count": 1,
   "metadata": {},
   "outputs": [],
   "source": [
    "import scanpy as sc\n",
    "import numpy as np\n",
    "import csv\n",
    "import pickle\n",
    "import matplotlib\n",
    "import math\n",
    "from itertools import combinations\n",
    "import pandas as pd\n",
    "import matplotlib\n",
    "# from pyvis.network import Network\n",
    "import networkx as nx\n",
    "from networkx.algorithms import bipartite\n",
    "# from cdlib import algorithms\n",
    "# from cdlib import NodeClustering\n",
    "\n",
    "\n",
    "spot_diameter = 89.43 #pixels"
   ]
  },
  {
   "cell_type": "code",
   "execution_count": 2,
   "metadata": {},
   "outputs": [],
   "source": [
    "def preprocessDf(df):\n",
    "  \"\"\"Transform ligand and receptor columns.\"\"\"\n",
    "  df[\"ligand-receptor\"] = df[\"ligand\"] + '-' + df[\"receptor\"]\n",
    "  df[\"component\"] = df[\"component\"] #.astype(str).str.zfill(2)\n",
    "\n",
    "  return df"
   ]
  },
  {
   "cell_type": "code",
   "execution_count": 3,
   "metadata": {},
   "outputs": [],
   "source": [
    "# Load gene_ids\n",
    "gene_ids = []\n",
    "with open(\"/Users/victoriagao/local_docs/NEST/stored_variables/gene_ids.txt\", 'r') as file:\n",
    "    for line in file:\n",
    "        # Remove trailing newline characters and any leading/trailing whitespaces\n",
    "        line = line.strip()\n",
    "        gene_ids.append(line)\n",
    "\n",
    "# Load coordinates\n",
    "coordinates = np.load(\"/Users/victoriagao/local_docs/NEST/stored_variables/coordinates.npy\")\n",
    "\n",
    "# Load cell_barcode\n",
    "with open('/Users/victoriagao/local_docs/NEST/stored_variables/cell_barcode.pkl', 'rb') as file:\n",
    "    cell_barcode = pickle.load(file)\n",
    "\n",
    "# Load connected_components (assume already have it)\n",
    "with open(\"/Users/victoriagao/local_docs/NEST/stored_variables/filtered_connected_components.pkl\", 'rb') as file:\n",
    "    filtered_connected_components = pickle.load(file)\n",
    "\n",
    "# Load pathologist's label\n",
    "data_name = 'PDAC_64630'\n",
    "if data_name == 'PDAC_64630':\n",
    "    pathologist_label_file='/Users/victoriagao/local_docs/NEST/input/pathologist_annot/IX_annotation_artifacts_PDAC64630.csv' #IX_annotation_artifacts.csv' #\n",
    "    pathologist_label=[]\n",
    "    with open(pathologist_label_file) as file:\n",
    "        csv_file = csv.reader(file, delimiter=\",\")\n",
    "        for line in csv_file:\n",
    "            pathologist_label.append(line)\t\n",
    "    \t\n",
    "    barcode_type=dict() # record the type (annotation) of each spot (barcode)\n",
    "    for i in range (1, len(pathologist_label)):\n",
    "        barcode_type[pathologist_label[i][0]] = pathologist_label[i][1]"
   ]
  },
  {
   "cell_type": "code",
   "execution_count": 4,
   "metadata": {},
   "outputs": [],
   "source": [
    "filename_str = 'NEST_combined_output_PDAC_64630'+'.csv'\n",
    "inputFile = '/Users/victoriagao/local_docs/NEST/output/From_Fatema/'+filename_str\n",
    "df = pd.read_csv(inputFile, sep=\",\")\n",
    "csv_record_final = df.values.tolist()\n",
    "df_column_names = list(df.columns)\n",
    "csv_record_final = [df_column_names] + csv_record_final"
   ]
  },
  {
   "cell_type": "code",
   "execution_count": 10,
   "metadata": {},
   "outputs": [],
   "source": [
    "#### i.e. making a list of Dictionary to store matched records for each region\n",
    "matched_records_set_lib = {}  \n",
    "\n",
    "for set_index, connected_comp_set in enumerate(filtered_connected_components):\n",
    "    matched_records = []\n",
    "\n",
    "    for record in csv_record_final:\n",
    "        from_cell, to_cell = record[0], record[1]\n",
    "        # if (from_cell in connected_comp_set) and (to_cell in connected_comp_set): # this is for tumor v tumor spots interaction\n",
    "        #     matched_records.append(record)\n",
    "        if (from_cell in connected_comp_set) ^ (to_cell in connected_comp_set): # this is for tumor v stroma/stroma v tumor spots interaction, XOR argument\n",
    "            matched_records.append(record)\n",
    "    \n",
    "    # Store matched records for this set index in the dictionary\n",
    "    matched_records_set_lib[set_index+1] = matched_records"
   ]
  },
  {
   "cell_type": "code",
   "execution_count": 11,
   "metadata": {},
   "outputs": [
    {
     "name": "stdout",
     "output_type": "stream",
     "text": [
      "For set: 1\n",
      "LR frequency 20\n",
      "For set: 2\n",
      "LR frequency 14\n",
      "For set: 3\n",
      "LR frequency 175\n",
      "For set: 4\n",
      "LR frequency 49\n",
      "For set: 5\n",
      "LR frequency 64\n",
      "For set: 6\n",
      "LR frequency 2\n",
      "For set: 7\n",
      "LR frequency 7\n",
      "For set: 8\n",
      "LR frequency 20\n",
      "For set: 9\n",
      "LR frequency 5\n",
      "For set: 10\n",
      "LR frequency 0\n",
      "For set: 11\n",
      "LR frequency 10\n",
      "For set: 12\n",
      "LR frequency 0\n",
      "For set: 13\n",
      "LR frequency 5\n",
      "For set: 14\n",
      "LR frequency 5\n",
      "For set: 15\n",
      "LR frequency 4\n",
      "For set: 16\n",
      "LR frequency 1\n",
      "For set: 17\n",
      "LR frequency 1\n",
      "For set: 18\n",
      "LR frequency 5\n",
      "For set: 19\n",
      "LR frequency 0\n",
      "For set: 20\n",
      "LR frequency 4\n",
      "For set: 21\n",
      "LR frequency 0\n"
     ]
    }
   ],
   "source": [
    "# Calculate Hill number q=1 for all 21 regions\n",
    "columns = ['from_cell','to_cell','ligand','receptor','attention_score','component','from_id','to_id']\n",
    "\n",
    "LR_freq_data = []\n",
    "\n",
    "for key, value in matched_records_set_lib.items():\n",
    "    df_matched = pd.DataFrame(value, columns=columns)\n",
    "    df_matched_processed = preprocessDf(df_matched)\n",
    "    ligand_receptor_counts = df_matched_processed['ligand-receptor'].value_counts()\n",
    "    count_df = pd.DataFrame({'ligand-receptor': ligand_receptor_counts.index, 'count': ligand_receptor_counts.values})\n",
    "    total_counts = count_df['count'].sum()\n",
    "    print(\"For set: \"+str(key))\n",
    "    print(\"LR frequency\",total_counts)\n",
    "\n",
    "    LR_freq_data.append({'Set': key, 'LR_frequency': total_counts}) # putting the hill numbers into a list\n",
    "    \n",
    "# Create a DataFrame from the collected data\n",
    "LR_freq_df = pd.DataFrame(LR_freq_data)\n",
    "LR_freq_dict = LR_freq_df.set_index('Set')['LR_frequency'].to_dict()"
   ]
  },
  {
   "cell_type": "code",
   "execution_count": 9,
   "metadata": {},
   "outputs": [],
   "source": [
    "# save the results\n",
    "with open('/Users/victoriagao/local_docs/NEST/stored_variables/64630_LR_freq_TS_interact.pickle', 'wb') as file:\n",
    "    pickle.dump(LR_freq_dict, file)"
   ]
  },
  {
   "cell_type": "code",
   "execution_count": null,
   "metadata": {},
   "outputs": [],
   "source": []
  }
 ],
 "metadata": {
  "interpreter": {
   "hash": "aa83d16393f97aa24ad4a6573b76605573a8020ddc70806670edbf45331edd26"
  },
  "kernelspec": {
   "display_name": "Python 3.8.18 64-bit ('stlearn': conda)",
   "name": "python3"
  },
  "language_info": {
   "codemirror_mode": {
    "name": "ipython",
    "version": 3
   },
   "file_extension": ".py",
   "mimetype": "text/x-python",
   "name": "python",
   "nbconvert_exporter": "python",
   "pygments_lexer": "ipython3",
   "version": "3.8.18"
  },
  "orig_nbformat": 4
 },
 "nbformat": 4,
 "nbformat_minor": 2
}
